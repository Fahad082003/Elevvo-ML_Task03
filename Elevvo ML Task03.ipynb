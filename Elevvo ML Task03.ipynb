{
 "cells": [
  {
   "cell_type": "code",
   "execution_count": 68,
   "id": "ff344d03-19f9-430f-a941-1f4b5123a6cb",
   "metadata": {},
   "outputs": [],
   "source": [
    "import numpy as np\n",
    "import pandas as pd\n",
    "import matplotlib.pyplot as plt\n",
    "import seaborn as sns\n",
    "from sklearn.metrics import classification_report,confusion_matrix\n",
    "from sklearn.preprocessing import StandardScaler\n",
    "from sklearn.model_selection import train_test_split\n",
    "from sklearn.linear_model import LogisticRegression\n",
    "from sklearn.tree import DecisionTreeClassifier\n",
    "from imblearn.over_sampling import SMOTE\n",
    "import warnings\n",
    "warnings.filterwarnings(\"ignore\")\n"
   ]
  },
  {
   "cell_type": "code",
   "execution_count": 14,
   "id": "a3fb418e-5058-4acc-8216-1ff998a4c2c5",
   "metadata": {},
   "outputs": [
    {
     "data": {
      "text/html": [
       "<div>\n",
       "<style scoped>\n",
       "    .dataframe tbody tr th:only-of-type {\n",
       "        vertical-align: middle;\n",
       "    }\n",
       "\n",
       "    .dataframe tbody tr th {\n",
       "        vertical-align: top;\n",
       "    }\n",
       "\n",
       "    .dataframe thead th {\n",
       "        text-align: right;\n",
       "    }\n",
       "</style>\n",
       "<table border=\"1\" class=\"dataframe\">\n",
       "  <thead>\n",
       "    <tr style=\"text-align: right;\">\n",
       "      <th></th>\n",
       "      <th>Loan_ID</th>\n",
       "      <th>Gender</th>\n",
       "      <th>Married</th>\n",
       "      <th>Dependents</th>\n",
       "      <th>Education</th>\n",
       "      <th>Self_Employed</th>\n",
       "      <th>ApplicantIncome</th>\n",
       "      <th>CoapplicantIncome</th>\n",
       "      <th>LoanAmount</th>\n",
       "      <th>Loan_Amount_Term</th>\n",
       "      <th>Credit_History</th>\n",
       "      <th>Property_Area</th>\n",
       "      <th>Loan_Status</th>\n",
       "    </tr>\n",
       "  </thead>\n",
       "  <tbody>\n",
       "    <tr>\n",
       "      <th>0</th>\n",
       "      <td>LP001002</td>\n",
       "      <td>Male</td>\n",
       "      <td>No</td>\n",
       "      <td>0</td>\n",
       "      <td>Graduate</td>\n",
       "      <td>No</td>\n",
       "      <td>5849</td>\n",
       "      <td>0.0</td>\n",
       "      <td>NaN</td>\n",
       "      <td>360.0</td>\n",
       "      <td>1.0</td>\n",
       "      <td>Urban</td>\n",
       "      <td>Y</td>\n",
       "    </tr>\n",
       "    <tr>\n",
       "      <th>1</th>\n",
       "      <td>LP001003</td>\n",
       "      <td>Male</td>\n",
       "      <td>Yes</td>\n",
       "      <td>1</td>\n",
       "      <td>Graduate</td>\n",
       "      <td>No</td>\n",
       "      <td>4583</td>\n",
       "      <td>1508.0</td>\n",
       "      <td>128.0</td>\n",
       "      <td>360.0</td>\n",
       "      <td>1.0</td>\n",
       "      <td>Rural</td>\n",
       "      <td>N</td>\n",
       "    </tr>\n",
       "    <tr>\n",
       "      <th>2</th>\n",
       "      <td>LP001005</td>\n",
       "      <td>Male</td>\n",
       "      <td>Yes</td>\n",
       "      <td>0</td>\n",
       "      <td>Graduate</td>\n",
       "      <td>Yes</td>\n",
       "      <td>3000</td>\n",
       "      <td>0.0</td>\n",
       "      <td>66.0</td>\n",
       "      <td>360.0</td>\n",
       "      <td>1.0</td>\n",
       "      <td>Urban</td>\n",
       "      <td>Y</td>\n",
       "    </tr>\n",
       "    <tr>\n",
       "      <th>3</th>\n",
       "      <td>LP001006</td>\n",
       "      <td>Male</td>\n",
       "      <td>Yes</td>\n",
       "      <td>0</td>\n",
       "      <td>Not Graduate</td>\n",
       "      <td>No</td>\n",
       "      <td>2583</td>\n",
       "      <td>2358.0</td>\n",
       "      <td>120.0</td>\n",
       "      <td>360.0</td>\n",
       "      <td>1.0</td>\n",
       "      <td>Urban</td>\n",
       "      <td>Y</td>\n",
       "    </tr>\n",
       "    <tr>\n",
       "      <th>4</th>\n",
       "      <td>LP001008</td>\n",
       "      <td>Male</td>\n",
       "      <td>No</td>\n",
       "      <td>0</td>\n",
       "      <td>Graduate</td>\n",
       "      <td>No</td>\n",
       "      <td>6000</td>\n",
       "      <td>0.0</td>\n",
       "      <td>141.0</td>\n",
       "      <td>360.0</td>\n",
       "      <td>1.0</td>\n",
       "      <td>Urban</td>\n",
       "      <td>Y</td>\n",
       "    </tr>\n",
       "  </tbody>\n",
       "</table>\n",
       "</div>"
      ],
      "text/plain": [
       "    Loan_ID Gender Married Dependents     Education Self_Employed  \\\n",
       "0  LP001002   Male      No          0      Graduate            No   \n",
       "1  LP001003   Male     Yes          1      Graduate            No   \n",
       "2  LP001005   Male     Yes          0      Graduate           Yes   \n",
       "3  LP001006   Male     Yes          0  Not Graduate            No   \n",
       "4  LP001008   Male      No          0      Graduate            No   \n",
       "\n",
       "   ApplicantIncome  CoapplicantIncome  LoanAmount  Loan_Amount_Term  \\\n",
       "0             5849                0.0         NaN             360.0   \n",
       "1             4583             1508.0       128.0             360.0   \n",
       "2             3000                0.0        66.0             360.0   \n",
       "3             2583             2358.0       120.0             360.0   \n",
       "4             6000                0.0       141.0             360.0   \n",
       "\n",
       "   Credit_History Property_Area Loan_Status  \n",
       "0             1.0         Urban           Y  \n",
       "1             1.0         Rural           N  \n",
       "2             1.0         Urban           Y  \n",
       "3             1.0         Urban           Y  \n",
       "4             1.0         Urban           Y  "
      ]
     },
     "execution_count": 14,
     "metadata": {},
     "output_type": "execute_result"
    }
   ],
   "source": [
    "df=pd.read_csv(\"loan.csv\")\n",
    "df.head()"
   ]
  },
  {
   "cell_type": "code",
   "execution_count": 15,
   "id": "59553594-d5db-4540-9720-b17ce9375a36",
   "metadata": {},
   "outputs": [],
   "source": [
    "df.columns=df.columns.str.strip().str.replace(\" \",\"_\").str.title()\n"
   ]
  },
  {
   "cell_type": "code",
   "execution_count": 20,
   "id": "703aed9a-5216-4c5c-be86-b3cadb94cd2a",
   "metadata": {},
   "outputs": [
    {
     "name": "stdout",
     "output_type": "stream",
     "text": [
      "(614, 13)\n",
      "Loan_Id               0\n",
      "Gender               13\n",
      "Married               3\n",
      "Dependents           15\n",
      "Education             0\n",
      "Self_Employed        32\n",
      "Applicantincome       0\n",
      "Coapplicantincome     0\n",
      "Loanamount           22\n",
      "Loan_Amount_Term     14\n",
      "Credit_History       50\n",
      "Property_Area         0\n",
      "Loan_Status           0\n",
      "dtype: int64\n",
      "0\n"
     ]
    },
    {
     "data": {
      "text/plain": [
       "Loan_Status\n",
       "Y    422\n",
       "N    192\n",
       "Name: count, dtype: int64"
      ]
     },
     "execution_count": 20,
     "metadata": {},
     "output_type": "execute_result"
    }
   ],
   "source": [
    "#Analyzing Dataframe\n",
    "print(df.shape)\n",
    "print(df.isnull().sum())\n",
    "print(df.duplicated().sum())\n",
    "df['Loan_Status'].value_counts()"
   ]
  },
  {
   "cell_type": "code",
   "execution_count": 21,
   "id": "25e9ef0b-f06c-4a4a-989e-347a4a47ea65",
   "metadata": {},
   "outputs": [],
   "source": [
    "#Dropping Null Values\n",
    "df.dropna(inplace=True)"
   ]
  },
  {
   "cell_type": "code",
   "execution_count": 25,
   "id": "b3b7537a-3928-4ac9-a54a-463dd3a248d1",
   "metadata": {},
   "outputs": [],
   "source": [
    "#Removing Loan_id Column not useful \n",
    "df.drop('Loan_Id', axis=1, inplace=True)"
   ]
  },
  {
   "cell_type": "code",
   "execution_count": 26,
   "id": "9f6b17be-5ee7-4f0f-9ba1-07f9716b0be7",
   "metadata": {},
   "outputs": [
    {
     "data": {
      "text/plain": [
       "Index(['Gender', 'Married', 'Dependents', 'Education', 'Self_Employed',\n",
       "       'Applicantincome', 'Coapplicantincome', 'Loanamount',\n",
       "       'Loan_Amount_Term', 'Credit_History', 'Property_Area', 'Loan_Status'],\n",
       "      dtype='object')"
      ]
     },
     "execution_count": 26,
     "metadata": {},
     "output_type": "execute_result"
    }
   ],
   "source": [
    "df.columns"
   ]
  },
  {
   "cell_type": "code",
   "execution_count": 32,
   "id": "ca4b4f9e-d5ad-4ed1-980c-d620722258a8",
   "metadata": {},
   "outputs": [],
   "source": [
    "df['Loan_Status'] = df['Loan_Status'].map({'Y': 1, 'N': 0})\n"
   ]
  },
  {
   "cell_type": "code",
   "execution_count": 33,
   "id": "a1c58a5e-8170-40a0-85a6-081e894dfcdf",
   "metadata": {},
   "outputs": [],
   "source": [
    "#Checking Categorical Cols\n",
    "categorical_cols=df.select_dtypes(include=['object', 'category']).columns.tolist()"
   ]
  },
  {
   "cell_type": "code",
   "execution_count": 34,
   "id": "d23818b1-fbe8-4c8d-bdbe-8b824e634741",
   "metadata": {},
   "outputs": [
    {
     "name": "stdout",
     "output_type": "stream",
     "text": [
      "['Gender', 'Married', 'Dependents', 'Education', 'Self_Employed', 'Property_Area']\n"
     ]
    }
   ],
   "source": [
    "print(categorical_cols)"
   ]
  },
  {
   "cell_type": "code",
   "execution_count": 35,
   "id": "69cef081-9dc9-402c-94c6-c7ca7249e4c7",
   "metadata": {},
   "outputs": [],
   "source": [
    "df_encoded=pd.get_dummies(df,columns=categorical_cols,drop_first=True)"
   ]
  },
  {
   "cell_type": "code",
   "execution_count": 36,
   "id": "d9c982f3-2445-42ec-85e5-2d98c60ca1d1",
   "metadata": {},
   "outputs": [
    {
     "name": "stdout",
     "output_type": "stream",
     "text": [
      "(480, 15)\n",
      "['Applicantincome', 'Coapplicantincome', 'Loanamount', 'Loan_Amount_Term', 'Credit_History', 'Loan_Status', 'Gender_Male', 'Married_Yes', 'Dependents_1', 'Dependents_2', 'Dependents_3+', 'Education_Not Graduate', 'Self_Employed_Yes', 'Property_Area_Semiurban', 'Property_Area_Urban']\n"
     ]
    }
   ],
   "source": [
    "print(df_encoded.shape)\n",
    "print(df_encoded.columns.tolist())"
   ]
  },
  {
   "cell_type": "code",
   "execution_count": 48,
   "id": "f6ee8603-8d9b-4905-916d-a38af3c69937",
   "metadata": {},
   "outputs": [],
   "source": [
    "x = df_encoded.drop('Loan_Status', axis=1)\n",
    "y = df_encoded['Loan_Status']\n",
    "\n",
    "x_train,x_test,y_train,y_test=train_test_split(x,y,test_size=0.2,stratify=y,random_state=42,)\n",
    "\n",
    "scaler=StandardScaler()\n",
    "x_train_scaled=scaler.fit_transform(x_train)\n",
    "x_test_scaled=scaler.transform(x_test)"
   ]
  },
  {
   "cell_type": "code",
   "execution_count": 53,
   "id": "ff296f12-ca94-4664-a354-8a932d0f4e60",
   "metadata": {},
   "outputs": [
    {
     "name": "stdout",
     "output_type": "stream",
     "text": [
      "(384, 14)\n",
      "(96, 14)\n",
      "Loan_Status\n",
      "1    69.270833\n",
      "0    30.729167\n",
      "Name: proportion, dtype: float64\n"
     ]
    }
   ],
   "source": [
    "print(x_train.shape)\n",
    "print(x_test.shape)\n",
    "print(y_train.value_counts(normalize=True)*100)\n"
   ]
  },
  {
   "cell_type": "markdown",
   "id": "2641a85f-8c88-43ea-b78a-7f3f197367c3",
   "metadata": {},
   "source": [
    "## Logistic Regression"
   ]
  },
  {
   "cell_type": "code",
   "execution_count": 90,
   "id": "0f1f82d9-0471-4fc6-83f2-916f17a27a67",
   "metadata": {},
   "outputs": [
    {
     "name": "stdout",
     "output_type": "stream",
     "text": [
      "[[17 13]\n",
      " [ 3 63]]\n",
      "              precision    recall  f1-score   support\n",
      "\n",
      "           0       0.85      0.57      0.68        30\n",
      "           1       0.83      0.95      0.89        66\n",
      "\n",
      "    accuracy                           0.83        96\n",
      "   macro avg       0.84      0.76      0.78        96\n",
      "weighted avg       0.84      0.83      0.82        96\n",
      "\n",
      "Training Accuracy 54.427083333333336\n",
      "Test Accuracy 52.083333333333336\n"
     ]
    }
   ],
   "source": [
    "#training Model\n",
    "logreg=LogisticRegression()\n",
    "logreg.fit(x_train_scaled,y_train)\n",
    "\n",
    "#Predict\n",
    "y_pred_logreg=logreg.predict(x_test_scaled)\n",
    "\n",
    "#Performance\n",
    "print(confusion_matrix(y_test,y_pred_logreg))\n",
    "print(classification_report(y_test,y_pred_logreg))\n",
    "print(\"Training Accuracy\",logreg_smote.score(x_train,y_train) * 100)\n",
    "print(\"Test Accuracy\",logreg_smote.score(x_test,y_test) * 100)\n",
    "\n"
   ]
  },
  {
   "cell_type": "markdown",
   "id": "3fdae32d-a954-465c-8889-1320f33533e9",
   "metadata": {},
   "source": [
    "## Decision Tree Classifier"
   ]
  },
  {
   "cell_type": "code",
   "execution_count": 89,
   "id": "f8130071-3f87-4125-a563-0b104e558838",
   "metadata": {},
   "outputs": [
    {
     "name": "stdout",
     "output_type": "stream",
     "text": [
      "[[30  0]\n",
      " [66  0]]\n",
      "              precision    recall  f1-score   support\n",
      "\n",
      "           0       0.31      1.00      0.48        30\n",
      "           1       0.00      0.00      0.00        66\n",
      "\n",
      "    accuracy                           0.31        96\n",
      "   macro avg       0.16      0.50      0.24        96\n",
      "weighted avg       0.10      0.31      0.15        96\n",
      "\n",
      "Training Accuracy 82.29166666666666\n",
      "Test Accuracy 80.20833333333334\n"
     ]
    }
   ],
   "source": [
    "#Training\n",
    "dts=DecisionTreeClassifier(random_state=42,max_depth=5,min_samples_split=10,min_samples_leaf=5)\n",
    "dts.fit(x_train,y_train)\n",
    "\n",
    "#Predict\n",
    "y_pred_dts=dts.predict(x_test_scaled)\n",
    "\n",
    "#Performance\n",
    "print(confusion_matrix(y_test,y_pred_dts))\n",
    "print(classification_report(y_test,y_pred_dts))\n",
    "print(\"Training Accuracy\",dts.score(x_train,y_train) * 100)\n",
    "print(\"Test Accuracy\",dts.score(x_test,y_test) * 100)\n",
    "\n"
   ]
  },
  {
   "cell_type": "markdown",
   "id": "25cd3446-746e-4f41-8125-ae9a73b3a62d",
   "metadata": {},
   "source": [
    "## Using SMOTE To Balanced Data"
   ]
  },
  {
   "cell_type": "code",
   "execution_count": 70,
   "id": "cf87c909-d16b-4730-8beb-96dadd4e56bf",
   "metadata": {},
   "outputs": [
    {
     "name": "stdout",
     "output_type": "stream",
     "text": [
      "Loan_Status\n",
      "1    266\n",
      "0    266\n",
      "Name: count, dtype: int64\n"
     ]
    }
   ],
   "source": [
    "smote=SMOTE(random_state=42)\n",
    "x_train_smote,y_train_smote=smote.fit_resample(x_train_scaled,y_train)\n",
    "print(y_train_smote.value_counts())"
   ]
  },
  {
   "cell_type": "markdown",
   "id": "7c77761a-f9ca-4806-a1fd-e471e7ce407d",
   "metadata": {},
   "source": [
    "## Logistic Regression With SMOTE"
   ]
  },
  {
   "cell_type": "code",
   "execution_count": 87,
   "id": "0f1fdd04-dc70-4159-a9d5-711b9192d583",
   "metadata": {},
   "outputs": [
    {
     "name": "stdout",
     "output_type": "stream",
     "text": [
      "[[19 11]\n",
      " [13 53]]\n",
      "              precision    recall  f1-score   support\n",
      "\n",
      "           0       0.59      0.63      0.61        30\n",
      "           1       0.83      0.80      0.82        66\n",
      "\n",
      "    accuracy                           0.75        96\n",
      "   macro avg       0.71      0.72      0.71        96\n",
      "weighted avg       0.75      0.75      0.75        96\n",
      "\n",
      "Training Accuracy 54.427083333333336\n",
      "Test Accuracy 52.083333333333336\n"
     ]
    }
   ],
   "source": [
    "#Training\n",
    "logreg_smote=LogisticRegression(random_state=42)\n",
    "logreg_smote.fit(x_train_smote,y_train_smote)\n",
    "\n",
    "\n",
    "#Predict\n",
    "y_pred_logreg_smote=logreg_smote.predict(x_test_scaled)\n",
    "\n",
    "#Performance\n",
    "print(confusion_matrix(y_test,y_pred_logreg_smote))\n",
    "print(classification_report(y_test,y_pred_logreg_smote))\n",
    "print(\"Training Accuracy\",logreg_smote.score(x_train,y_train) * 100)\n",
    "print(\"Test Accuracy\",logreg_smote.score(x_test,y_test) * 100)\n",
    "\n",
    "\n"
   ]
  },
  {
   "cell_type": "markdown",
   "id": "a87150a5-7fd1-4e4f-9f06-0617f4bf6c32",
   "metadata": {},
   "source": [
    "## Decison Tree With SMOTE"
   ]
  },
  {
   "cell_type": "code",
   "execution_count": 86,
   "id": "b1bdfd2a-4ca0-472f-a57a-111e09aa83ba",
   "metadata": {},
   "outputs": [
    {
     "name": "stdout",
     "output_type": "stream",
     "text": [
      "[[18 12]\n",
      " [12 54]]\n",
      "              precision    recall  f1-score   support\n",
      "\n",
      "           0       0.60      0.60      0.60        30\n",
      "           1       0.82      0.82      0.82        66\n",
      "\n",
      "    accuracy                           0.75        96\n",
      "   macro avg       0.71      0.71      0.71        96\n",
      "weighted avg       0.75      0.75      0.75        96\n",
      "\n",
      "Training Accuracy 79.42708333333334\n",
      "Test Accuracy 75.0\n"
     ]
    }
   ],
   "source": [
    "x_train_tree,y_train_tree=smote.fit_resample(x_train,y_train)\n",
    "\n",
    "#Training\n",
    "dts_smote= DecisionTreeClassifier(random_state=42,max_depth=5,min_samples_split=10,min_samples_leaf=5)\n",
    "dts_smote.fit(x_train_tree,y_train_tree)\n",
    "\n",
    "#Predict\n",
    "y_pred_dts_smote=dts_smote.predict(x_test)\n",
    "\n",
    "#Performance\n",
    "print(confusion_matrix(y_test,y_pred_dts_smote))\n",
    "print(classification_report(y_test,y_pred_dts_smote))\n",
    "print(\"Training Accuracy\",dts_smote.score(x_train,y_train) * 100)\n",
    "print(\"Test Accuracy\",dts_smote.score(x_test,y_test) * 100)\n"
   ]
  },
  {
   "cell_type": "code",
   "execution_count": null,
   "id": "a2f27a85-17c6-4cfc-a459-21f4a6d94985",
   "metadata": {},
   "outputs": [],
   "source": []
  }
 ],
 "metadata": {
  "kernelspec": {
   "display_name": "Python 3 (ipykernel)",
   "language": "python",
   "name": "python3"
  },
  "language_info": {
   "codemirror_mode": {
    "name": "ipython",
    "version": 3
   },
   "file_extension": ".py",
   "mimetype": "text/x-python",
   "name": "python",
   "nbconvert_exporter": "python",
   "pygments_lexer": "ipython3",
   "version": "3.13.5"
  }
 },
 "nbformat": 4,
 "nbformat_minor": 5
}
